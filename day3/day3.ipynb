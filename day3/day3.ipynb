{
 "cells": [
  {
   "cell_type": "markdown",
   "metadata": {},
   "source": [
    "Day 3 - split contents into rucksacks"
   ]
  },
  {
   "cell_type": "code",
   "execution_count": 11,
   "metadata": {},
   "outputs": [],
   "source": [
    "import string\n",
    "\n",
    "lowers = list(string.ascii_lowercase)\n",
    "uppers = list(string.ascii_uppercase)\n",
    "both = lowers + uppers"
   ]
  },
  {
   "cell_type": "code",
   "execution_count": 12,
   "metadata": {},
   "outputs": [],
   "source": [
    "score = 0\n",
    "dict_scores = {}\n",
    "for char in both:\n",
    "    score += 1\n",
    "    dict_scores[char] = score"
   ]
  },
  {
   "cell_type": "markdown",
   "metadata": {},
   "source": [
    "- read line by line\n",
    "- split in half\n",
    "- find common character\n",
    "- add score of common character to running total"
   ]
  },
  {
   "cell_type": "code",
   "execution_count": 45,
   "metadata": {},
   "outputs": [
    {
     "name": "stdout",
     "output_type": "stream",
     "text": [
      "7811\n"
     ]
    }
   ],
   "source": [
    "running_total = 0\n",
    "\n",
    "with open('day3-input.txt', 'r') as f:\n",
    "    for line in f.readlines():\n",
    "        tmp_list = [*line]\n",
    "        tmp_list.pop()  # lazy get rid of '\\n'\n",
    "        tmp_len = len(tmp_list)\n",
    "        splitter = tmp_len // 2  # all even\n",
    "        left_set = set(tmp_list[:splitter])\n",
    "        right_set = set(tmp_list[splitter:])\n",
    "        common_char = list(set.intersection(left_set, right_set))[0]\n",
    "        running_total += dict_scores[common_char]\n",
    "\n",
    "print(running_total)"
   ]
  },
  {
   "cell_type": "markdown",
   "metadata": {},
   "source": [
    "part two: take three lines, find common char, add to running total..."
   ]
  },
  {
   "cell_type": "code",
   "execution_count": 52,
   "metadata": {},
   "outputs": [
    {
     "name": "stdout",
     "output_type": "stream",
     "text": [
      "2639\n"
     ]
    }
   ],
   "source": [
    "running_total = 0\n",
    "three_line_list = []\n",
    "with open('day3-input.txt', 'r') as f:\n",
    "    for line in f.readlines():\n",
    "        tmp_list = [*line]\n",
    "        tmp_list.pop()  # lazy get rid of '\\n'\n",
    "        three_line_list.append(set(tmp_list))\n",
    "\n",
    "        if len(three_line_list) == 3:\n",
    "            # now have a list of three sets, can find their intersection\n",
    "            common_char = list(three_line_list[0] & three_line_list[1] & three_line_list[2])[0]\n",
    "            running_total += dict_scores[common_char]\n",
    "            three_line_list = []\n",
    "\n",
    "print(running_total)"
   ]
  }
 ],
 "metadata": {
  "kernelspec": {
   "display_name": "Python 3.11.0 64-bit",
   "language": "python",
   "name": "python3"
  },
  "language_info": {
   "codemirror_mode": {
    "name": "ipython",
    "version": 3
   },
   "file_extension": ".py",
   "mimetype": "text/x-python",
   "name": "python",
   "nbconvert_exporter": "python",
   "pygments_lexer": "ipython3",
   "version": "3.11.0"
  },
  "orig_nbformat": 4,
  "vscode": {
   "interpreter": {
    "hash": "67ace6135643d6279c9ebc6a40fb180dd1ad65d77f4ffbabedbbb49be3415c5a"
   }
  }
 },
 "nbformat": 4,
 "nbformat_minor": 2
}
