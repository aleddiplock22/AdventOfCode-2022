{
 "cells": [
  {
   "cell_type": "markdown",
   "metadata": {},
   "source": [
    "Day 8 - Big grid of trees, which are visible?\n",
    "\n",
    "Only care about 2D neighbours (LRUD) ALL THE WAY TO THE EDGE (not just next to!) ... and all outer edge are visible!"
   ]
  },
  {
   "cell_type": "code",
   "execution_count": 179,
   "metadata": {},
   "outputs": [],
   "source": [
    "import numpy as np"
   ]
  },
  {
   "cell_type": "code",
   "execution_count": 180,
   "metadata": {},
   "outputs": [
    {
     "data": {
      "text/plain": [
       "3"
      ]
     },
     "execution_count": 180,
     "metadata": {},
     "output_type": "execute_result"
    }
   ],
   "source": [
    "input = []\n",
    "\n",
    "with open('day8-example.txt', 'r') as f:\n",
    "    for line in f.readlines():\n",
    "        input.append(line.rstrip())\n",
    "\n",
    "grid = [[*row] for row in input]\n",
    "\n",
    "grid = np.array(grid).astype(int)\n",
    "grid[-1][0]\n",
    "\n",
    "# format grid [y][x]"
   ]
  },
  {
   "cell_type": "code",
   "execution_count": 181,
   "metadata": {},
   "outputs": [
    {
     "data": {
      "text/plain": [
       "array([[1, 2, 3],\n",
       "       [3, 4, 5],\n",
       "       [6, 7, 8]])"
      ]
     },
     "execution_count": 181,
     "metadata": {},
     "output_type": "execute_result"
    }
   ],
   "source": [
    "False in list(9 > np.array([1,2,3,4,5,6]))\n",
    "arrr = np.array([[1,2,3],[3,4,5],[6,7,8]]) \n",
    "arrr\n"
   ]
  },
  {
   "cell_type": "code",
   "execution_count": 182,
   "metadata": {},
   "outputs": [
    {
     "data": {
      "text/plain": [
       "array([2])"
      ]
     },
     "execution_count": 182,
     "metadata": {},
     "output_type": "execute_result"
    }
   ],
   "source": [
    "arrr[:1,1]"
   ]
  },
  {
   "cell_type": "code",
   "execution_count": 183,
   "metadata": {},
   "outputs": [
    {
     "name": "stdout",
     "output_type": "stream",
     "text": [
      "not visible\n"
     ]
    }
   ],
   "source": [
    "arrr = np.array([[1,2,3],[3,4,5],[6,7,8]]) \n",
    "arr_cmp = 3 >= arrr[:,:2]\n",
    "if not arr_cmp.all():\n",
    "    print('not visible')\n",
    "else:\n",
    "    print('visible')"
   ]
  },
  {
   "cell_type": "code",
   "execution_count": 184,
   "metadata": {},
   "outputs": [],
   "source": [
    "# Have to check all the way to the edge!\n",
    "\n",
    "def generate_visible_grid(grid_array):\n",
    "    length = len(grid_array)\n",
    "    visibile_grid = np.zeros((length,length), dtype=int)\n",
    "    for y in range(length):\n",
    "        for x in range(length):\n",
    "            if (x == 0) or (y == 0) or (x == length-1) or (y == length-1): # we're on the edge\n",
    "                visibile_grid[y][x] = 1\n",
    "            else:\n",
    "                comparisons_x_LEFT = grid_array[y][x] > grid_array[y,:x] # compare to that specific row but all to the left\n",
    "                comparisons_x_RIGHT = grid_array[y][x] > grid_array[y,x+1:] # compare to that specific row but all to the right\n",
    "                comparisons_y_LEFT = grid_array[y][x] > grid_array[y+1:,x] # compare to that specific column but all to the left\n",
    "                comparisons_y_RIGHT = grid_array[y][x] > grid_array[:y,x] # compare to that specific column but all to the right\n",
    "                if comparisons_x_LEFT.all() or comparisons_y_LEFT.all() or comparisons_x_RIGHT.all() or comparisons_y_RIGHT.all():\n",
    "                    # if there's just one tree it wasn't bigger than in the row, then it is not visible\n",
    "                    visibile_grid[y][x] = 1\n",
    "                else:\n",
    "                    visibile_grid[y][x] = 0\n",
    "    \n",
    "    return visibile_grid"
   ]
  },
  {
   "cell_type": "code",
   "execution_count": 185,
   "metadata": {},
   "outputs": [
    {
     "data": {
      "text/plain": [
       "array([[1, 1, 1, 1, 1],\n",
       "       [1, 1, 1, 0, 1],\n",
       "       [1, 1, 0, 1, 1],\n",
       "       [1, 0, 1, 0, 1],\n",
       "       [1, 1, 1, 1, 1]])"
      ]
     },
     "execution_count": 185,
     "metadata": {},
     "output_type": "execute_result"
    }
   ],
   "source": [
    "visible_grid = generate_visible_grid(grid)\n",
    "\n",
    "visible_grid"
   ]
  },
  {
   "cell_type": "code",
   "execution_count": 186,
   "metadata": {},
   "outputs": [
    {
     "data": {
      "text/plain": [
       "21"
      ]
     },
     "execution_count": 186,
     "metadata": {},
     "output_type": "execute_result"
    }
   ],
   "source": [
    "visible_grid.sum()"
   ]
  },
  {
   "cell_type": "markdown",
   "metadata": {},
   "source": [
    "Part 2: Scenic score (looking at distances the nearest blocker tree is away)"
   ]
  },
  {
   "cell_type": "code",
   "execution_count": 266,
   "metadata": {},
   "outputs": [],
   "source": [
    "def generate_scenic_grid(grid_array):\n",
    "    length = len(grid_array)\n",
    "    scenic = np.zeros((length,length), dtype=int)\n",
    "    for y in range(length):\n",
    "        for x in range(length):\n",
    "            if (x == 0): \n",
    "                distL = 0\n",
    "            else:\n",
    "                distL = 0\n",
    "                for i in range(x):\n",
    "                    if grid_array[y,x-i-1] < grid_array[y,x]:\n",
    "                        distL +=1\n",
    "                    else:\n",
    "                        if distL == 0: distL = 1\n",
    "                        break\n",
    "\n",
    "            if (y == 0): \n",
    "                distU = 0\n",
    "            else:\n",
    "                distU = 0\n",
    "                for i in range(length-y-1):\n",
    "                    if grid_array[y+i+1,x] < grid_array[y,x]:   ## WE ARE DOUBLE COUNTING FIRST ONE\n",
    "                        distU +=1\n",
    "                    else:\n",
    "                        if distU == 0: distU = 1\n",
    "                        break\n",
    "\n",
    "            if (x == length-1):\n",
    "                distR = 0\n",
    "            else:\n",
    "                distR = 0 \n",
    "                for i in range(length-x-1):\n",
    "                    if grid_array[y,x+i+1] < grid_array[y,x]:\n",
    "                        distR +=1\n",
    "                    else:\n",
    "                        if distR == 0: distR = 1\n",
    "                        break\n",
    "\n",
    "            if (y == length-1): \n",
    "                distD = 0\n",
    "            else:\n",
    "                distD = 0\n",
    "                for i in range(y):\n",
    "                    if grid_array[y-i-1,x] < grid_array[y,x]:\n",
    "                        distD +=1\n",
    "                    else:\n",
    "                        if distD == 0: distD = 1\n",
    "                        break            \n",
    "\n",
    "            scenic_score = distU*distD*distL*distR\n",
    "            scenic[y,x] = scenic_score\n",
    "\n",
    "    return scenic"
   ]
  },
  {
   "cell_type": "code",
   "execution_count": 262,
   "metadata": {},
   "outputs": [],
   "source": [
    "scenic = generate_scenic_grid(grid)"
   ]
  },
  {
   "cell_type": "code",
   "execution_count": 240,
   "metadata": {},
   "outputs": [
    {
     "data": {
      "text/plain": [
       "array([[3, 0, 3, 7, 3],\n",
       "       [2, 5, 5, 1, 2],\n",
       "       [6, 5, 3, 3, 2],\n",
       "       [3, 3, 5, 4, 9],\n",
       "       [3, 5, 3, 9, 0]])"
      ]
     },
     "execution_count": 240,
     "metadata": {},
     "output_type": "execute_result"
    }
   ],
   "source": [
    "grid"
   ]
  },
  {
   "cell_type": "code",
   "execution_count": null,
   "metadata": {},
   "outputs": [],
   "source": []
  }
 ],
 "metadata": {
  "kernelspec": {
   "display_name": "Python 3.11.0 64-bit",
   "language": "python",
   "name": "python3"
  },
  "language_info": {
   "codemirror_mode": {
    "name": "ipython",
    "version": 3
   },
   "file_extension": ".py",
   "mimetype": "text/x-python",
   "name": "python",
   "nbconvert_exporter": "python",
   "pygments_lexer": "ipython3",
   "version": "3.11.0"
  },
  "orig_nbformat": 4,
  "vscode": {
   "interpreter": {
    "hash": "67ace6135643d6279c9ebc6a40fb180dd1ad65d77f4ffbabedbbb49be3415c5a"
   }
  }
 },
 "nbformat": 4,
 "nbformat_minor": 2
}
