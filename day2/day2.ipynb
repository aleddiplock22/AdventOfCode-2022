{
 "cells": [
  {
   "cell_type": "markdown",
   "metadata": {},
   "source": [
    "Day 2 - rock paper scissors strats"
   ]
  },
  {
   "cell_type": "code",
   "execution_count": null,
   "metadata": {},
   "outputs": [],
   "source": [
    "import pandas as pd"
   ]
  },
  {
   "cell_type": "markdown",
   "metadata": {},
   "source": [
    "opponent = {'A': 'Rock', 'B': 'Paper', 'C': Scissors}\n",
    "\n",
    "me       = {'X': 'Rock (1)', 'Y': 'Paper' (2), 'Z': Scissors (3)}\n",
    "\n",
    "win = 6\n",
    "draw = 3\n",
    "lose = 0"
   ]
  },
  {
   "cell_type": "code",
   "execution_count": null,
   "metadata": {},
   "outputs": [],
   "source": [
    "moves = pd.read_csv('day2-input.csv')\n",
    "moves.tail()"
   ]
  },
  {
   "cell_type": "code",
   "execution_count": null,
   "metadata": {},
   "outputs": [],
   "source": [
    "moves['score'] = 0\n",
    "moves.tail()"
   ]
  },
  {
   "cell_type": "code",
   "execution_count": 14,
   "metadata": {},
   "outputs": [],
   "source": [
    "def calculate_score(row):\n",
    "    if row['Us'] == 'X':\n",
    "        score = 1\n",
    "        if row['Opp'] == 'A':\n",
    "            score += 3\n",
    "            return score\n",
    "        if row['Opp'] == 'B':\n",
    "            return score\n",
    "        if row['Opp'] == 'C':\n",
    "            score += 6\n",
    "            return score\n",
    "    \n",
    "    if row['Us'] == 'Y':\n",
    "        score = 2\n",
    "        if row['Opp'] == 'B':\n",
    "            score += 3\n",
    "            return score\n",
    "        if row['Opp'] == 'C':\n",
    "            return score\n",
    "        if row['Opp'] == 'A':\n",
    "            score += 6\n",
    "            return score\n",
    "    \n",
    "    if row['Us'] == 'Z':\n",
    "        score = 3\n",
    "        if row['Opp'] == 'C':\n",
    "            score += 3\n",
    "            return score\n",
    "        if row['Opp'] == 'A':\n",
    "            return score\n",
    "        if row['Opp'] == 'B':\n",
    "            score += 6\n",
    "            return score\n",
    "        \n"
   ]
  },
  {
   "cell_type": "code",
   "execution_count": 15,
   "metadata": {},
   "outputs": [],
   "source": [
    "moves['score'] = moves.apply(lambda row : calculate_score(row), axis=1)"
   ]
  },
  {
   "cell_type": "code",
   "execution_count": 16,
   "metadata": {},
   "outputs": [
    {
     "data": {
      "text/html": [
       "<div>\n",
       "<style scoped>\n",
       "    .dataframe tbody tr th:only-of-type {\n",
       "        vertical-align: middle;\n",
       "    }\n",
       "\n",
       "    .dataframe tbody tr th {\n",
       "        vertical-align: top;\n",
       "    }\n",
       "\n",
       "    .dataframe thead th {\n",
       "        text-align: right;\n",
       "    }\n",
       "</style>\n",
       "<table border=\"1\" class=\"dataframe\">\n",
       "  <thead>\n",
       "    <tr style=\"text-align: right;\">\n",
       "      <th></th>\n",
       "      <th>Opp</th>\n",
       "      <th>Us</th>\n",
       "      <th>score</th>\n",
       "    </tr>\n",
       "  </thead>\n",
       "  <tbody>\n",
       "    <tr>\n",
       "      <th>0</th>\n",
       "      <td>C</td>\n",
       "      <td>Z</td>\n",
       "      <td>6</td>\n",
       "    </tr>\n",
       "    <tr>\n",
       "      <th>1</th>\n",
       "      <td>B</td>\n",
       "      <td>Y</td>\n",
       "      <td>5</td>\n",
       "    </tr>\n",
       "    <tr>\n",
       "      <th>2</th>\n",
       "      <td>C</td>\n",
       "      <td>X</td>\n",
       "      <td>7</td>\n",
       "    </tr>\n",
       "    <tr>\n",
       "      <th>3</th>\n",
       "      <td>B</td>\n",
       "      <td>Z</td>\n",
       "      <td>9</td>\n",
       "    </tr>\n",
       "    <tr>\n",
       "      <th>4</th>\n",
       "      <td>C</td>\n",
       "      <td>Y</td>\n",
       "      <td>2</td>\n",
       "    </tr>\n",
       "  </tbody>\n",
       "</table>\n",
       "</div>"
      ],
      "text/plain": [
       "  Opp Us  score\n",
       "0   C  Z      6\n",
       "1   B  Y      5\n",
       "2   C  X      7\n",
       "3   B  Z      9\n",
       "4   C  Y      2"
      ]
     },
     "execution_count": 16,
     "metadata": {},
     "output_type": "execute_result"
    }
   ],
   "source": [
    "moves.head()"
   ]
  },
  {
   "cell_type": "code",
   "execution_count": 17,
   "metadata": {},
   "outputs": [
    {
     "data": {
      "text/plain": [
       "11386"
      ]
     },
     "execution_count": 17,
     "metadata": {},
     "output_type": "execute_result"
    }
   ],
   "source": [
    "moves['score'].sum()"
   ]
  },
  {
   "cell_type": "markdown",
   "metadata": {},
   "source": [
    "part 2: X,Y,Z means LOSE,DRAW,WIN"
   ]
  },
  {
   "cell_type": "code",
   "execution_count": 18,
   "metadata": {},
   "outputs": [],
   "source": [
    "moves_2 = pd.read_csv('day2-input.csv')"
   ]
  },
  {
   "cell_type": "code",
   "execution_count": 27,
   "metadata": {},
   "outputs": [],
   "source": [
    "def calculate_score_2(row):\n",
    "    if row['Us'] == 'X':  # MUST LOSE\n",
    "        score = 0\n",
    "        if row['Opp'] == 'A':  # rock beats scissors\n",
    "            score += 3\n",
    "            return score\n",
    "        if row['Opp'] == 'B':  # paper beats rock\n",
    "            score += 1\n",
    "            return score\n",
    "        if row['Opp'] == 'C':  # scissors beats paper\n",
    "            score += 2\n",
    "            return score\n",
    "    \n",
    "    if row['Us'] == 'Y':  # MUST DRAW\n",
    "        score = 3\n",
    "        if row['Opp'] == 'A':  # rock, rock etc.\n",
    "            score += 1\n",
    "            return score\n",
    "        if row['Opp'] == 'B':\n",
    "            score += 2\n",
    "            return score\n",
    "        if row['Opp'] == 'C':\n",
    "            score += 3\n",
    "            return score\n",
    "    \n",
    "    if row['Us'] == 'Z':  # MUST WIN\n",
    "        score = 6\n",
    "        if row['Opp'] == 'A':\n",
    "            score += 2  # paper\n",
    "            return score\n",
    "        if row['Opp'] == 'B':\n",
    "            score += 3  # scissors\n",
    "            return score\n",
    "        if row['Opp'] == 'C':\n",
    "            score += 1\n",
    "            return score\n",
    "        \n"
   ]
  },
  {
   "cell_type": "code",
   "execution_count": 28,
   "metadata": {},
   "outputs": [
    {
     "data": {
      "text/html": [
       "<div>\n",
       "<style scoped>\n",
       "    .dataframe tbody tr th:only-of-type {\n",
       "        vertical-align: middle;\n",
       "    }\n",
       "\n",
       "    .dataframe tbody tr th {\n",
       "        vertical-align: top;\n",
       "    }\n",
       "\n",
       "    .dataframe thead th {\n",
       "        text-align: right;\n",
       "    }\n",
       "</style>\n",
       "<table border=\"1\" class=\"dataframe\">\n",
       "  <thead>\n",
       "    <tr style=\"text-align: right;\">\n",
       "      <th></th>\n",
       "      <th>Opp</th>\n",
       "      <th>Us</th>\n",
       "      <th>score</th>\n",
       "    </tr>\n",
       "  </thead>\n",
       "  <tbody>\n",
       "    <tr>\n",
       "      <th>0</th>\n",
       "      <td>C</td>\n",
       "      <td>Z</td>\n",
       "      <td>7</td>\n",
       "    </tr>\n",
       "    <tr>\n",
       "      <th>1</th>\n",
       "      <td>B</td>\n",
       "      <td>Y</td>\n",
       "      <td>5</td>\n",
       "    </tr>\n",
       "    <tr>\n",
       "      <th>2</th>\n",
       "      <td>C</td>\n",
       "      <td>X</td>\n",
       "      <td>2</td>\n",
       "    </tr>\n",
       "    <tr>\n",
       "      <th>3</th>\n",
       "      <td>B</td>\n",
       "      <td>Z</td>\n",
       "      <td>9</td>\n",
       "    </tr>\n",
       "    <tr>\n",
       "      <th>4</th>\n",
       "      <td>C</td>\n",
       "      <td>Y</td>\n",
       "      <td>6</td>\n",
       "    </tr>\n",
       "  </tbody>\n",
       "</table>\n",
       "</div>"
      ],
      "text/plain": [
       "  Opp Us  score\n",
       "0   C  Z      7\n",
       "1   B  Y      5\n",
       "2   C  X      2\n",
       "3   B  Z      9\n",
       "4   C  Y      6"
      ]
     },
     "execution_count": 28,
     "metadata": {},
     "output_type": "execute_result"
    }
   ],
   "source": [
    "moves_2['score'] = moves.apply(lambda row : calculate_score_2(row), axis=1)\n",
    "moves_2.head()"
   ]
  },
  {
   "cell_type": "code",
   "execution_count": 29,
   "metadata": {},
   "outputs": [
    {
     "data": {
      "text/plain": [
       "13600"
      ]
     },
     "execution_count": 29,
     "metadata": {},
     "output_type": "execute_result"
    }
   ],
   "source": [
    "moves_2['score'].sum()"
   ]
  }
 ],
 "metadata": {
  "kernelspec": {
   "display_name": "Python 3.11.0 64-bit",
   "language": "python",
   "name": "python3"
  },
  "language_info": {
   "codemirror_mode": {
    "name": "ipython",
    "version": 3
   },
   "file_extension": ".py",
   "mimetype": "text/x-python",
   "name": "python",
   "nbconvert_exporter": "python",
   "pygments_lexer": "ipython3",
   "version": "3.11.0"
  },
  "orig_nbformat": 4,
  "vscode": {
   "interpreter": {
    "hash": "67ace6135643d6279c9ebc6a40fb180dd1ad65d77f4ffbabedbbb49be3415c5a"
   }
  }
 },
 "nbformat": 4,
 "nbformat_minor": 2
}
