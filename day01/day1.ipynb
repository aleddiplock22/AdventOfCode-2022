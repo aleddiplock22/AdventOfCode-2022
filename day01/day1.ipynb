{
 "cells": [
  {
   "cell_type": "markdown",
   "metadata": {},
   "source": [
    "Day 1: Find elf with max calories, each elf separated by a new line"
   ]
  },
  {
   "cell_type": "code",
   "execution_count": 13,
   "metadata": {},
   "outputs": [
    {
     "name": "stdout",
     "output_type": "stream",
     "text": [
      "[46595, 53192, 51069, 4921, 47609, 51587, 49730, 8892, 53059, 42824, 54039, 13148, 35354, 31432, 35591, 54700, 34306, 41442, 34078, 57033, 38148, 69727, 44067, 40431, 51537, 42814, 28097, 57998, 38093, 62867, 49586, 54573, 48422, 20942, 55266, 55152, 51138, 40321, 54059, 53066, 26922, 59906, 7343, 57609, 51815, 46537, 53042, 25476, 34520, 37805, 54962, 30263, 11713, 51123, 44201, 51031, 61228, 33812, 53094, 53476, 16263, 54851, 62605, 51896, 50117, 56531, 60290, 54863, 51668, 42072, 60521, 45191, 58378, 37698, 52915, 47224, 44162, 43768, 44289, 67966, 61300, 58431, 38877, 65425, 20096, 50259, 46838, 54848, 45594, 54992, 49045, 42597, 56051, 31825, 45142, 62661, 45192, 62189, 52587, 59024, 37947, 56330, 52239, 37230, 40782, 58063, 40155, 54256, 48033, 55352, 17712, 26192, 54442, 56429, 27063, 66259, 60133, 51070, 40485, 46125, 41462, 48470, 40220, 42715, 32255, 54366, 8993, 50691, 55520, 32873, 33122, 52812, 51587, 48732, 56976, 47755, 64193, 54700, 42313, 61115, 55896, 36909, 62188, 59470, 41927, 47569, 55724, 62202, 55422, 42120, 32988, 46797, 48459, 55557, 55831, 35755, 59348, 56757, 62973, 28449, 52138, 33478, 56607, 38939, 43833, 27541, 55369, 26986, 47229, 69883, 43857, 2962, 50664, 50596, 54215, 21752, 63987, 56936, 32573, 40624, 51990, 53405, 63693, 59816, 22871, 56162, 48515, 34816, 57466, 43885, 47611, 58859, 36772, 49493, 34501, 56400, 46576, 47186, 42101, 41261, 55469, 40850, 50984, 47188, 43644, 28134, 48225, 53893, 48417, 31685, 57720, 48508, 56058, 32581, 49886, 45462, 19318, 61132, 33659, 58408, 42671, 62244, 48409, 42025, 48649, 44674, 47630, 54977, 63633, 52190, 47650, 41779, 40785, 49729, 54083, 32790, 46394, 54565, 18948, 48517]\n",
      "69883\n",
      "69727\n",
      "67966\n"
     ]
    },
    {
     "data": {
      "text/plain": [
       "207576"
      ]
     },
     "execution_count": 13,
     "metadata": {},
     "output_type": "execute_result"
    }
   ],
   "source": [
    "calorie_counts = []\n",
    "running_total = 0\n",
    "with open('day1-input.txt', 'r') as f:\n",
    "    for line in f.readlines():\n",
    "        if line == '\\n':\n",
    "            calorie_counts.append(running_total)\n",
    "            running_total = 0\n",
    "        else:\n",
    "            running_total += int(line)\n",
    "\n",
    "print(calorie_counts)\n",
    "\n",
    "max_vals = []\n",
    "\n",
    "max_val = max(calorie_counts)\n",
    "print(max_val)\n",
    "max_vals.append(max_val)\n",
    "calorie_counts.remove(max_val)\n",
    "\n",
    "max_val = max(calorie_counts)\n",
    "print(max_val)\n",
    "max_vals.append(max_val)\n",
    "calorie_counts.remove(max_val)\n",
    "\n",
    "max_val = max(calorie_counts)\n",
    "print(max_val)\n",
    "max_vals.append(max_val)\n",
    "calorie_counts.remove(max_val)\n",
    "\n",
    "sum(max_vals)"
   ]
  }
 ],
 "metadata": {
  "kernelspec": {
   "display_name": "Python 3.11.0 64-bit",
   "language": "python",
   "name": "python3"
  },
  "language_info": {
   "codemirror_mode": {
    "name": "ipython",
    "version": 3
   },
   "file_extension": ".py",
   "mimetype": "text/x-python",
   "name": "python",
   "nbconvert_exporter": "python",
   "pygments_lexer": "ipython3",
   "version": "3.11.0"
  },
  "orig_nbformat": 4,
  "vscode": {
   "interpreter": {
    "hash": "67ace6135643d6279c9ebc6a40fb180dd1ad65d77f4ffbabedbbb49be3415c5a"
   }
  }
 },
 "nbformat": 4,
 "nbformat_minor": 2
}
