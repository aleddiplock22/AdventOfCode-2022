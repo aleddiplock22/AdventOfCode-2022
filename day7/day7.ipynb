{
 "cells": [
  {
   "cell_type": "markdown",
   "metadata": {},
   "source": [
    "Day 7: Figuring out directory sizes from command line input/output (ugh)"
   ]
  },
  {
   "cell_type": "code",
   "execution_count": 152,
   "metadata": {},
   "outputs": [],
   "source": [
    "import datetime"
   ]
  },
  {
   "cell_type": "code",
   "execution_count": 144,
   "metadata": {},
   "outputs": [
    {
     "data": {
      "text/plain": [
       "('$ cd /', '43248 jwdv.qct', '$ ls', 'dir drblq')"
      ]
     },
     "execution_count": 144,
     "metadata": {},
     "output_type": "execute_result"
    }
   ],
   "source": [
    "input = []\n",
    "\n",
    "with open('day7-input.txt', 'r') as f:\n",
    "    for line in f.readlines():\n",
    "        input.append(line.rstrip())\n",
    "\n",
    "input[0], input[-1], input[1], input[2]"
   ]
  },
  {
   "cell_type": "code",
   "execution_count": 128,
   "metadata": {},
   "outputs": [
    {
     "data": {
      "text/plain": [
       "(True, True, True, True, True, False)"
      ]
     },
     "execution_count": 128,
     "metadata": {},
     "output_type": "execute_result"
    }
   ],
   "source": [
    "def is_command(string):\n",
    "    return string[0] == \"$\"\n",
    "\n",
    "def is_calling_ls(string):\n",
    "    return string[2:4] == \"ls\"\n",
    "\n",
    "def is_a_dir(string):\n",
    "    return string[0:3] == \"dir\"\n",
    "\n",
    "def is_calling_cd(string):\n",
    "    return string[2:4] == \"cd\"\n",
    "\n",
    "def has_size(string):\n",
    "    return string[0] in [*'0123456789']\n",
    "\n",
    "is_calling_ls('$ ls'), is_command(\"$   a sd as d as\"), is_a_dir('dir drblq'), is_calling_cd('$ cd /'), has_size('43251 jw.jpg'), has_size('$ asdas')"
   ]
  },
  {
   "cell_type": "markdown",
   "metadata": {},
   "source": [
    "Plan:\n",
    "\n",
    "-go through input,\n",
    "\n",
    "-find an ls call:\n",
    "\n",
    "------add up all the sizes from lines with size\n",
    "    (ignoring dirs then)\n",
    "    (UNTIL another command called)"
   ]
  },
  {
   "cell_type": "code",
   "execution_count": null,
   "metadata": {},
   "outputs": [],
   "source": [
    "counting = False\n",
    "totals = []\n",
    "total = 0\n",
    "\n",
    "for line in input:\n",
    "    if counting:\n",
    "        if has_size(line):\n",
    "            tmp = line.split()\n",
    "            total += int(tmp[0])\n",
    "        elif is_a_dir(line):\n",
    "            pass\n",
    "        elif is_command(line):\n",
    "            if total <= 100000 and total != 0:\n",
    "                totals.append(total)\n",
    "                total = 0\n",
    "                counting = False\n",
    "            else:\n",
    "                total = 0\n",
    "                counting = False\n",
    "        else:\n",
    "            print('panic')\n",
    "    else:\n",
    "        if is_calling_ls(line):\n",
    "            counting = True\n",
    "\n",
    "sum(totals)\n",
    "        "
   ]
  },
  {
   "cell_type": "markdown",
   "metadata": {},
   "source": [
    "THat didn't work\n",
    "\n",
    "Need to track each individual directory and store answers in there\n",
    "\n",
    "so: GO through, have to know WHERE we are.\n",
    "\n",
    "if an ls: where was that ls called (what dir!)"
   ]
  },
  {
   "cell_type": "code",
   "execution_count": 157,
   "metadata": {},
   "outputs": [
    {
     "data": {
      "text/plain": [
       "False"
      ]
     },
     "execution_count": 157,
     "metadata": {},
     "output_type": "execute_result"
    }
   ],
   "source": [
    "counting = False\n",
    "totals = {}\n",
    "\n",
    "total = 0\n",
    "where = ''\n",
    "all_dirs = []\n",
    "\n",
    "for line in input:\n",
    "    if is_calling_cd(line):  # calling cd -> need to track where they're going\n",
    "        counting = False\n",
    "        tmp = line.split()\n",
    "        where = tmp[2]\n",
    "        if where == \"..\": pass\n",
    "        else:\n",
    "            all_dirs.append(where)\n",
    "            totals[where] = [] \n",
    "    if counting:  # We're inside an ls, count up what's in there\n",
    "        if has_size(line):\n",
    "            tmp = line.split()\n",
    "            totals[where].append(int(tmp[0]))  # adding the value the to the list belonging to that dir\n",
    "        elif is_a_dir(line):\n",
    "            tmp = line.split()\n",
    "            totals[where].append(tmp[1])  # add the name of the subdir to the parent dir's list\n",
    "        elif is_command(line):  # command means we're at the end of the directory and it's time to stop counting!\n",
    "            counting = False\n",
    "        else:\n",
    "            print('panic')\n",
    "    else:\n",
    "        if is_calling_ls(line):\n",
    "            counting = True\n",
    "\n",
    "len(all_dirs) == len(set(all_dirs)) # not unique of course\n",
    "        "
   ]
  },
  {
   "cell_type": "code",
   "execution_count": null,
   "metadata": {},
   "outputs": [],
   "source": [
    "totals.keys()"
   ]
  },
  {
   "cell_type": "code",
   "execution_count": null,
   "metadata": {},
   "outputs": [],
   "source": [
    "totals.pop('..')\n",
    "totals.keys()"
   ]
  },
  {
   "cell_type": "code",
   "execution_count": null,
   "metadata": {},
   "outputs": [],
   "source": [
    "dir_values = {key:0 for (key,value) in totals.items()} # can keep track of storage used in each dir in this perhaps"
   ]
  },
  {
   "cell_type": "code",
   "execution_count": null,
   "metadata": {},
   "outputs": [],
   "source": [
    "all_the_keys = set(totals.keys()) # TRACK WHICH KEYS WE'VE LOOKED AT\n",
    "len(all_the_keys)"
   ]
  },
  {
   "cell_type": "code",
   "execution_count": null,
   "metadata": {},
   "outputs": [],
   "source": [
    "while len(all_the_keys) > 0:\n",
    "    keys_to_remove = []\n",
    "    for k in all_the_keys:\n",
    "        # LOOK IN A DIR, TRY TO ADD UP, IF WE CANT (SUBDIR'S VALUE UNKNOWN), MOVE ON\n",
    "        contents = totals[k] # list of all inside current dir\n",
    "        running_total = 0\n",
    "        for c in contents:\n",
    "            did_it = True\n",
    "            if type(c) == int:\n",
    "                running_total += c\n",
    "            else:\n",
    "                val = dir_values[c]  # found a subdir, do we know its value?\n",
    "                if val == 0:\n",
    "                    did_it = False\n",
    "                else:\n",
    "                    running_total += val\n",
    "        # So if we managed to figure out the size then we add it to the values dir\n",
    "        if did_it:\n",
    "            dir_values[k] = running_total\n",
    "            running_total = 0\n",
    "            keys_to_remove.append(k)\n",
    "    for remove_this_key in keys_to_remove:\n",
    "        all_the_keys.remove(remove_this_key)\n",
    "    # DID WE GET THROUGH THEM?    "
   ]
  },
  {
   "cell_type": "code",
   "execution_count": null,
   "metadata": {},
   "outputs": [],
   "source": [
    "final_totals = [val for (key,val) in dir_values.items() if val <= 100000]\n",
    "sum(final_totals)\n"
   ]
  },
  {
   "cell_type": "code",
   "execution_count": null,
   "metadata": {},
   "outputs": [],
   "source": []
  }
 ],
 "metadata": {
  "kernelspec": {
   "display_name": "Python 3.11.0 64-bit",
   "language": "python",
   "name": "python3"
  },
  "language_info": {
   "codemirror_mode": {
    "name": "ipython",
    "version": 3
   },
   "file_extension": ".py",
   "mimetype": "text/x-python",
   "name": "python",
   "nbconvert_exporter": "python",
   "pygments_lexer": "ipython3",
   "version": "3.11.0"
  },
  "orig_nbformat": 4,
  "vscode": {
   "interpreter": {
    "hash": "67ace6135643d6279c9ebc6a40fb180dd1ad65d77f4ffbabedbbb49be3415c5a"
   }
  }
 },
 "nbformat": 4,
 "nbformat_minor": 2
}
