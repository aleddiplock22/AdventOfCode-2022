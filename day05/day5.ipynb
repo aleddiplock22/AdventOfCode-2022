{
 "cells": [
  {
   "cell_type": "markdown",
   "metadata": {},
   "source": [
    "Day 5: Stacks and instructions, what will end up on top?"
   ]
  },
  {
   "cell_type": "markdown",
   "metadata": {},
   "source": [
    "[W] [V] --- [P]                   \n",
    "\n",
    "[B] [T] --- [C] [B] --- [G]        \n",
    "\n",
    "[G] [S] --- [V] [H] [N] [T]      \n",
    "\n",
    "[Z] [B] [W] [J] [D] [M] [S]        \n",
    "\n",
    "[R] [C] [N] [N] [F] [W] [C] --- [W]\n",
    "\n",
    "[D] [F] [S] [M] [L] [T] [L] [Z] [Z]\n",
    "\n",
    "[C] [W] [B] [G] [S] [V] [F] [D] [N]\n",
    "\n",
    "[V] [G] [C] [Q] [T] [J] [P] [B] [M]\n",
    "\n",
    "1---2--3---4--5---6--7---8--9\n",
    " "
   ]
  },
  {
   "cell_type": "code",
   "execution_count": 54,
   "metadata": {},
   "outputs": [],
   "source": [
    "import pandas as pd\n",
    "import numpy as np"
   ]
  },
  {
   "cell_type": "code",
   "execution_count": 55,
   "metadata": {},
   "outputs": [
    {
     "data": {
      "text/html": [
       "<div>\n",
       "<style scoped>\n",
       "    .dataframe tbody tr th:only-of-type {\n",
       "        vertical-align: middle;\n",
       "    }\n",
       "\n",
       "    .dataframe tbody tr th {\n",
       "        vertical-align: top;\n",
       "    }\n",
       "\n",
       "    .dataframe thead th {\n",
       "        text-align: right;\n",
       "    }\n",
       "</style>\n",
       "<table border=\"1\" class=\"dataframe\">\n",
       "  <thead>\n",
       "    <tr style=\"text-align: right;\">\n",
       "      <th></th>\n",
       "      <th>1</th>\n",
       "      <th>2</th>\n",
       "      <th>3</th>\n",
       "      <th>4</th>\n",
       "      <th>5</th>\n",
       "      <th>6</th>\n",
       "      <th>7</th>\n",
       "      <th>8</th>\n",
       "      <th>9</th>\n",
       "    </tr>\n",
       "  </thead>\n",
       "  <tbody>\n",
       "    <tr>\n",
       "      <th>0</th>\n",
       "      <td>W</td>\n",
       "      <td>V</td>\n",
       "      <td>W</td>\n",
       "      <td>P</td>\n",
       "      <td>B</td>\n",
       "      <td>N</td>\n",
       "      <td>G</td>\n",
       "      <td>Z</td>\n",
       "      <td>W</td>\n",
       "    </tr>\n",
       "    <tr>\n",
       "      <th>1</th>\n",
       "      <td>B</td>\n",
       "      <td>T</td>\n",
       "      <td>N</td>\n",
       "      <td>C</td>\n",
       "      <td>H</td>\n",
       "      <td>M</td>\n",
       "      <td>T</td>\n",
       "      <td>D</td>\n",
       "      <td>Z</td>\n",
       "    </tr>\n",
       "    <tr>\n",
       "      <th>2</th>\n",
       "      <td>G</td>\n",
       "      <td>S</td>\n",
       "      <td>S</td>\n",
       "      <td>V</td>\n",
       "      <td>D</td>\n",
       "      <td>W</td>\n",
       "      <td>S</td>\n",
       "      <td>B</td>\n",
       "      <td>N</td>\n",
       "    </tr>\n",
       "    <tr>\n",
       "      <th>3</th>\n",
       "      <td>Z</td>\n",
       "      <td>B</td>\n",
       "      <td>B</td>\n",
       "      <td>J</td>\n",
       "      <td>F</td>\n",
       "      <td>T</td>\n",
       "      <td>C</td>\n",
       "      <td>NaN</td>\n",
       "      <td>M</td>\n",
       "    </tr>\n",
       "    <tr>\n",
       "      <th>4</th>\n",
       "      <td>R</td>\n",
       "      <td>C</td>\n",
       "      <td>C</td>\n",
       "      <td>N</td>\n",
       "      <td>L</td>\n",
       "      <td>V</td>\n",
       "      <td>L</td>\n",
       "      <td>NaN</td>\n",
       "      <td>NaN</td>\n",
       "    </tr>\n",
       "    <tr>\n",
       "      <th>5</th>\n",
       "      <td>D</td>\n",
       "      <td>F</td>\n",
       "      <td>NaN</td>\n",
       "      <td>M</td>\n",
       "      <td>S</td>\n",
       "      <td>J</td>\n",
       "      <td>F</td>\n",
       "      <td>NaN</td>\n",
       "      <td>NaN</td>\n",
       "    </tr>\n",
       "    <tr>\n",
       "      <th>6</th>\n",
       "      <td>C</td>\n",
       "      <td>W</td>\n",
       "      <td>NaN</td>\n",
       "      <td>G</td>\n",
       "      <td>T</td>\n",
       "      <td>NaN</td>\n",
       "      <td>P</td>\n",
       "      <td>NaN</td>\n",
       "      <td>NaN</td>\n",
       "    </tr>\n",
       "    <tr>\n",
       "      <th>7</th>\n",
       "      <td>V</td>\n",
       "      <td>G</td>\n",
       "      <td>NaN</td>\n",
       "      <td>Q</td>\n",
       "      <td>NaN</td>\n",
       "      <td>NaN</td>\n",
       "      <td>NaN</td>\n",
       "      <td>NaN</td>\n",
       "      <td>NaN</td>\n",
       "    </tr>\n",
       "  </tbody>\n",
       "</table>\n",
       "</div>"
      ],
      "text/plain": [
       "   1  2    3  4    5    6    7    8    9\n",
       "0  W  V    W  P    B    N    G    Z    W\n",
       "1  B  T    N  C    H    M    T    D    Z\n",
       "2  G  S    S  V    D    W    S    B    N\n",
       "3  Z  B    B  J    F    T    C  NaN    M\n",
       "4  R  C    C  N    L    V    L  NaN  NaN\n",
       "5  D  F  NaN  M    S    J    F  NaN  NaN\n",
       "6  C  W  NaN  G    T  NaN    P  NaN  NaN\n",
       "7  V  G  NaN  Q  NaN  NaN  NaN  NaN  NaN"
      ]
     },
     "execution_count": 55,
     "metadata": {},
     "output_type": "execute_result"
    }
   ],
   "source": [
    "stacks = pd.read_csv('day5-alt-starter-input.csv')\n",
    "stacks"
   ]
  },
  {
   "cell_type": "code",
   "execution_count": 56,
   "metadata": {},
   "outputs": [
    {
     "data": {
      "text/plain": [
       "['move', '2', 'from', '8', 'to', '4']"
      ]
     },
     "execution_count": 56,
     "metadata": {},
     "output_type": "execute_result"
    }
   ],
   "source": [
    "instructions = []\n",
    "with open('day5-input.txt', 'r') as f:\n",
    "    for line in f.readlines():\n",
    "        instructions.append(line.rstrip().split(' '))  # rstrip gets rid of the '\\n'\n",
    "instructions[0]  # example format\n",
    "        "
   ]
  },
  {
   "cell_type": "markdown",
   "metadata": {},
   "source": [
    "We want a 'last in, first out' stack. Lists work like that!"
   ]
  },
  {
   "cell_type": "code",
   "execution_count": 57,
   "metadata": {},
   "outputs": [
    {
     "data": {
      "text/plain": [
       "['W', 'B', 'G', 'Z', 'R', 'D', 'C', 'V']"
      ]
     },
     "execution_count": 57,
     "metadata": {},
     "output_type": "execute_result"
    }
   ],
   "source": [
    "list(stacks['1'])"
   ]
  },
  {
   "cell_type": "code",
   "execution_count": 58,
   "metadata": {},
   "outputs": [
    {
     "data": {
      "text/plain": [
       "['V', 'C', 'D', 'R', 'Z', 'G', 'B', 'W']"
      ]
     },
     "execution_count": 58,
     "metadata": {},
     "output_type": "execute_result"
    }
   ],
   "source": [
    "l = list(stacks['1'])\n",
    "l.reverse()\n",
    "l  # now can see last element is the 'top'"
   ]
  },
  {
   "cell_type": "code",
   "execution_count": 79,
   "metadata": {},
   "outputs": [
    {
     "data": {
      "text/plain": [
       "[['V', 'C', 'D', 'R', 'Z', 'G', 'B', 'W'],\n",
       " ['G', 'W', 'F', 'C', 'B', 'S', 'T', 'V'],\n",
       " ['C', 'B', 'S', 'N', 'W'],\n",
       " ['Q', 'G', 'M', 'N', 'J', 'V', 'C', 'P'],\n",
       " ['T', 'S', 'L', 'F', 'D', 'H', 'B'],\n",
       " ['J', 'V', 'T', 'W', 'M', 'N'],\n",
       " ['P', 'F', 'L', 'C', 'S', 'T', 'G'],\n",
       " ['B', 'D', 'Z'],\n",
       " ['M', 'N', 'Z', 'W']]"
      ]
     },
     "execution_count": 79,
     "metadata": {},
     "output_type": "execute_result"
    }
   ],
   "source": [
    "col_names = list(stacks.columns)\n",
    "all_stacks = []\n",
    "for c in col_names:\n",
    "    col = list((stacks[c]))\n",
    "    new_col = [c for c in col if (type(c)==str)]  # no nans!\n",
    "    all_stacks.append(list(new_col))\n",
    "for stack in all_stacks:\n",
    "    stack.reverse()\n",
    "all_stacks"
   ]
  },
  {
   "cell_type": "code",
   "execution_count": null,
   "metadata": {},
   "outputs": [],
   "source": [
    "# RUN FOR PART 1 ONLY\n",
    "\n",
    "def add_to_stack(instruction, all_stacks):\n",
    "    '''\n",
    "    Input format: ['move', '2', 'from', '8', 'to', '4']\n",
    "\n",
    "    Will move items between lists/stacks in all_stacks\n",
    "    since all_stacks is 0-indexed and our instructions are 1-indexed\n",
    "    we have to account for this.\n",
    "    '''\n",
    "    amount = int(instruction[1])\n",
    "    from_loc = int(instruction[3]) - 1\n",
    "    to_loc  = int(instruction[5]) - 1\n",
    "\n",
    "    for i in range(amount):  # DO {amount} times:\n",
    "        tmp = all_stacks[from_loc].pop()\n",
    "        all_stacks[to_loc].append(tmp)\n",
    "    \n",
    "    return all_stacks   \n"
   ]
  },
  {
   "cell_type": "code",
   "execution_count": null,
   "metadata": {},
   "outputs": [],
   "source": [
    "#  RUN FOR PART 1 OTHERWISE DONT (inplace operations)\n",
    "\n",
    "for instruction in instructions:\n",
    "    add_to_stack(instruction, all_stacks)\n",
    "\n",
    "all_stacks"
   ]
  },
  {
   "cell_type": "markdown",
   "metadata": {},
   "source": [
    "PART 2: MULTIPLE CRATES MOVE"
   ]
  },
  {
   "cell_type": "code",
   "execution_count": 78,
   "metadata": {},
   "outputs": [],
   "source": [
    "# RUN FOR PART 2 ONLY\n",
    "\n",
    "def add_to_stack(instruction, all_stacks):\n",
    "    '''\n",
    "    Input format: ['move', '2', 'from', '8', 'to', '4']\n",
    "\n",
    "    Will move items between lists/stacks in all_stacks\n",
    "    since all_stacks is 0-indexed and our instructions are 1-indexed\n",
    "    we have to account for this.\n",
    "    '''\n",
    "    amount = int(instruction[1])\n",
    "    from_loc = int(instruction[3]) - 1\n",
    "    to_loc  = int(instruction[5]) - 1\n",
    "\n",
    "    moving = []\n",
    "    for i in range(amount):  # DO {amount} times:\n",
    "        tmp = all_stacks[from_loc].pop()\n",
    "        moving.append(tmp)\n",
    "    moving.reverse()  #lol\n",
    "    for m in moving:\n",
    "        all_stacks[to_loc].append(m)\n",
    "    \n",
    "    return all_stacks  "
   ]
  },
  {
   "cell_type": "code",
   "execution_count": 80,
   "metadata": {},
   "outputs": [
    {
     "data": {
      "text/plain": [
       "[['G', 'W', 'N', 'C', 'V'],\n",
       " ['L'],\n",
       " ['C'],\n",
       " ['W'],\n",
       " ['M',\n",
       "  'B',\n",
       "  'N',\n",
       "  'P',\n",
       "  'W',\n",
       "  'B',\n",
       "  'V',\n",
       "  'J',\n",
       "  'B',\n",
       "  'T',\n",
       "  'M',\n",
       "  'D',\n",
       "  'C',\n",
       "  'F',\n",
       "  'T',\n",
       "  'B',\n",
       "  'C',\n",
       "  'W',\n",
       "  'N',\n",
       "  'H'],\n",
       " ['F', 'T'],\n",
       " ['N', 'C', 'W', 'D', 'Z', 'G', 'B', 'V', 'S', 'T', 'S', 'D'],\n",
       " ['S'],\n",
       " ['M', 'G', 'P', 'R', 'L', 'F', 'Q', 'G', 'S', 'J', 'Z', 'V', 'Z']]"
      ]
     },
     "execution_count": 80,
     "metadata": {},
     "output_type": "execute_result"
    }
   ],
   "source": [
    "#  RUN FOR PART 2 OTHERWISE DONT (inplace operations)\n",
    "\n",
    "for instruction in instructions:\n",
    "    add_to_stack(instruction, all_stacks)\n",
    "\n",
    "all_stacks"
   ]
  }
 ],
 "metadata": {
  "kernelspec": {
   "display_name": "Python 3.11.0 64-bit",
   "language": "python",
   "name": "python3"
  },
  "language_info": {
   "codemirror_mode": {
    "name": "ipython",
    "version": 3
   },
   "file_extension": ".py",
   "mimetype": "text/x-python",
   "name": "python",
   "nbconvert_exporter": "python",
   "pygments_lexer": "ipython3",
   "version": "3.11.0"
  },
  "orig_nbformat": 4,
  "vscode": {
   "interpreter": {
    "hash": "67ace6135643d6279c9ebc6a40fb180dd1ad65d77f4ffbabedbbb49be3415c5a"
   }
  }
 },
 "nbformat": 4,
 "nbformat_minor": 2
}
